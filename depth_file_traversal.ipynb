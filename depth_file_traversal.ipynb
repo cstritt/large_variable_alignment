{
 "cells": [
  {
   "cell_type": "markdown",
   "metadata": {},
   "source": [
    "# Find the fastest way for getting information from depth files"
   ]
  },
  {
   "cell_type": "markdown",
   "metadata": {},
   "source": [
    "## Loop"
   ]
  },
  {
   "cell_type": "code",
   "execution_count": 7,
   "metadata": {},
   "outputs": [
    {
     "ename": "AttributeError",
     "evalue": "'args' object has no attribute 'bed'",
     "output_type": "error",
     "traceback": [
      "\u001b[0;31m---------------------------------------------------------------------------\u001b[0m",
      "\u001b[0;31mAttributeError\u001b[0m                            Traceback (most recent call last)",
      "Cell \u001b[0;32mIn[7], line 18\u001b[0m\n\u001b[1;32m     14\u001b[0m         \u001b[38;5;28mself\u001b[39m\u001b[38;5;241m.\u001b[39moutput_prefix \u001b[38;5;241m=\u001b[39m \u001b[38;5;124m'\u001b[39m\u001b[38;5;124mtest\u001b[39m\u001b[38;5;124m'\u001b[39m\n\u001b[1;32m     16\u001b[0m args \u001b[38;5;241m=\u001b[39m args()\n\u001b[0;32m---> 18\u001b[0m var_aln \u001b[38;5;241m=\u001b[39m \u001b[43mvariable_alignment\u001b[49m\u001b[38;5;241;43m.\u001b[39;49m\u001b[43mvariable_alignment\u001b[49m\u001b[43m(\u001b[49m\u001b[43margs\u001b[49m\u001b[43m)\u001b[49m\n",
      "File \u001b[0;32m~/github/large_variable_alignment/lib/variable_alignment.py:69\u001b[0m, in \u001b[0;36m__init__\u001b[0;34m(self, args)\u001b[0m\n\u001b[1;32m     67\u001b[0m fields \u001b[38;5;241m=\u001b[39m line\u001b[38;5;241m.\u001b[39mstrip()\u001b[38;5;241m.\u001b[39msplit(\u001b[38;5;124m'\u001b[39m\u001b[38;5;130;01m\\t\u001b[39;00m\u001b[38;5;124m'\u001b[39m)\n\u001b[1;32m     68\u001b[0m start \u001b[38;5;241m=\u001b[39m \u001b[38;5;28mint\u001b[39m(fields[\u001b[38;5;241m1\u001b[39m])\n\u001b[0;32m---> 69\u001b[0m end \u001b[38;5;241m=\u001b[39m \u001b[38;5;28mint\u001b[39m(fields[\u001b[38;5;241m2\u001b[39m])\n\u001b[1;32m     71\u001b[0m \u001b[38;5;28;01mfor\u001b[39;00m pos \u001b[38;5;129;01min\u001b[39;00m \u001b[38;5;28mrange\u001b[39m(start, end \u001b[38;5;241m+\u001b[39m \u001b[38;5;241m1\u001b[39m):\n\u001b[1;32m     72\u001b[0m     \u001b[38;5;28mself\u001b[39m\u001b[38;5;241m.\u001b[39mrepeats\u001b[38;5;241m.\u001b[39madd(pos)\n",
      "\u001b[0;31mAttributeError\u001b[0m: 'args' object has no attribute 'bed'"
     ]
    }
   ],
   "source": [
    "from lib import variable_alignment\n",
    "\n",
    "class args:\n",
    "    def __init__(self):\n",
    "\n",
    "        self.input = '100_genomes.txt'\n",
    "        self.gaps = 0.9\n",
    "        self.mindepth = 5\n",
    "        self.repeats = 'resources/regions_blindspots_modlin_farhat.bed'\n",
    "        self.drug = 'resources/20160911_DR_filter_pos_reseqTB.txt'\n",
    "        self.outg = ''\n",
    "        self.suffix = \"mutect2.filtered.homo.snps.vcf\"\n",
    "        self.threads = 1\n",
    "        self.output_prefix = 'test'\n",
    "        \n",
    "args = args()\n",
    "\n",
    "var_aln = variable_alignment.variable_alignment(args)\n"
   ]
  },
  {
   "cell_type": "markdown",
   "metadata": {},
   "source": [
    "## Random access"
   ]
  }
 ],
 "metadata": {
  "kernelspec": {
   "display_name": "base",
   "language": "python",
   "name": "python3"
  },
  "language_info": {
   "codemirror_mode": {
    "name": "ipython",
    "version": 3
   },
   "file_extension": ".py",
   "mimetype": "text/x-python",
   "name": "python",
   "nbconvert_exporter": "python",
   "pygments_lexer": "ipython3",
   "version": "3.12.2"
  }
 },
 "nbformat": 4,
 "nbformat_minor": 2
}
